{
 "cells": [
  {
   "cell_type": "code",
   "execution_count": 2,
   "metadata": {},
   "outputs": [],
   "source": [
    "from datasets import load_dataset"
   ]
  },
  {
   "cell_type": "code",
   "execution_count": 3,
   "metadata": {},
   "outputs": [
    {
     "name": "stderr",
     "output_type": "stream",
     "text": [
      "Found cached dataset mmarco (/home/carlesoctav/dicoding-capstone/disk/unicamp-dl___mmarco/collection-english/2.0.0/7f28829be59989fdda5e97f8fa7610fbead2c60a53aa8055edfdc51a93a82947)\n"
     ]
    },
    {
     "data": {
      "application/vnd.jupyter.widget-view+json": {
       "model_id": "33f428395acb4e6dbd8640bf7d6ee67e",
       "version_major": 2,
       "version_minor": 0
      },
      "text/plain": [
       "  0%|          | 0/1 [00:00<?, ?it/s]"
      ]
     },
     "metadata": {},
     "output_type": "display_data"
    },
    {
     "name": "stderr",
     "output_type": "stream",
     "text": [
      "Found cached dataset mmarco (/home/carlesoctav/dicoding-capstone/disk/unicamp-dl___mmarco/collection-indonesian/2.0.0/7f28829be59989fdda5e97f8fa7610fbead2c60a53aa8055edfdc51a93a82947)\n"
     ]
    },
    {
     "data": {
      "application/vnd.jupyter.widget-view+json": {
       "model_id": "2e9ec2a0c3d24595b970c6c9f37c9cba",
       "version_major": 2,
       "version_minor": 0
      },
      "text/plain": [
       "  0%|          | 0/1 [00:00<?, ?it/s]"
      ]
     },
     "metadata": {},
     "output_type": "display_data"
    }
   ],
   "source": [
    "en_collection= load_dataset(\"unicamp-dl/mmarco\", \"collection-english\",cache_dir=\"disk\")\n",
    "id_collection = load_dataset(\"unicamp-dl/mmarco\", \"collection-indonesian\",cache_dir=\"disk\")"
   ]
  },
  {
   "cell_type": "code",
   "execution_count": 4,
   "metadata": {},
   "outputs": [
    {
     "name": "stderr",
     "output_type": "stream",
     "text": [
      "Found cached dataset mmarco (/home/carlesoctav/dicoding-capstone/disk/unicamp-dl___mmarco/queries-english/2.0.0/7f28829be59989fdda5e97f8fa7610fbead2c60a53aa8055edfdc51a93a82947)\n",
      "Found cached dataset mmarco (/home/carlesoctav/dicoding-capstone/disk/unicamp-dl___mmarco/queries-indonesian/2.0.0/7f28829be59989fdda5e97f8fa7610fbead2c60a53aa8055edfdc51a93a82947)\n"
     ]
    }
   ],
   "source": [
    "en_queries = load_dataset(\"unicamp-dl/mmarco\", \"queries-english\",cache_dir=\"disk\",split=\"all\")\n",
    "id_queries = load_dataset(\"unicamp-dl/mmarco\", \"queries-indonesian\",cache_dir=\"disk\",split=\"all\")"
   ]
  },
  {
   "cell_type": "code",
   "execution_count": 5,
   "metadata": {},
   "outputs": [
    {
     "name": "stderr",
     "output_type": "stream",
     "text": [
      "Loading cached sorted indices for dataset at /home/carlesoctav/dicoding-capstone/disk/unicamp-dl___mmarco/queries-english/2.0.0/7f28829be59989fdda5e97f8fa7610fbead2c60a53aa8055edfdc51a93a82947/cache-5e0916c6910337cc.arrow\n"
     ]
    }
   ],
   "source": [
    "#sort queries by id\n",
    "en_queries = en_queries.sort(\"id\")\n",
    "id_queries = id_queries.sort(\"id\")"
   ]
  },
  {
   "cell_type": "code",
   "execution_count": 6,
   "metadata": {},
   "outputs": [
    {
     "data": {
      "application/vnd.jupyter.widget-view+json": {
       "model_id": "b882ca5f155248c691ac6b5363241a4d",
       "version_major": 2,
       "version_minor": 0
      },
      "text/plain": [
       "Flattening the indices:   0%|          | 0/500000 [00:00<?, ? examples/s]"
      ]
     },
     "metadata": {},
     "output_type": "display_data"
    }
   ],
   "source": [
    "en_queries = en_queries.select(range(500000))\n",
    "id_queries = id_queries.select(range(500000))\n",
    "\n",
    "queries = en_queries.rename_column(\"text\",\"text_en\")\n",
    "queries = queries.remove_columns([\"id\"])\n",
    "queries = queries.add_column(\"text_id\",id_queries[\"text\"])"
   ]
  },
  {
   "cell_type": "code",
   "execution_count": 10,
   "metadata": {},
   "outputs": [
    {
     "data": {
      "text/plain": [
       "{'text_en': [' A potlatch is considered an example of',\n",
       "  ' Androgen receptor define',\n",
       "  ' Androgen receptor define',\n",
       "  ' Another name for the primary visual cortex is'],\n",
       " 'text_id': ['Potlatch dianggap sebagai contoh dari',\n",
       "  'Reseptor androgen menentukan',\n",
       "  'Reseptor androgen menentukan',\n",
       "  ' Nama lain untuk korteks visual primer adalah']}"
      ]
     },
     "execution_count": 10,
     "metadata": {},
     "output_type": "execute_result"
    }
   ],
   "source": [
    "queries[:4]"
   ]
  },
  {
   "cell_type": "code",
   "execution_count": 11,
   "metadata": {},
   "outputs": [],
   "source": [
    "#take 500K for en_collection and 500K for id_collection\n",
    "en_collection = en_collection[\"collection\"].select(range(500000))\n",
    "id_collection = id_collection[\"collection\"].select(range(500000))\n",
    "\n",
    "collect_id = id_collection[\"text\"]\n",
    "\n",
    "collection  = en_collection.rename_column(\"text\", \"text_en\")\n",
    "collection = collection.remove_columns([\"id\"])\n",
    "collection = collection.add_column(name=\"text_id\", column=collect_id)\n",
    "\n"
   ]
  },
  {
   "cell_type": "code",
   "execution_count": 12,
   "metadata": {},
   "outputs": [
    {
     "data": {
      "application/vnd.jupyter.widget-view+json": {
       "model_id": "9d5b0a6c2daf47c5b5ab41229e6415f1",
       "version_major": 2,
       "version_minor": 0
      },
      "text/plain": [
       "Creating json from Arrow format:   0%|          | 0/500 [00:00<?, ?ba/s]"
      ]
     },
     "metadata": {},
     "output_type": "display_data"
    },
    {
     "data": {
      "application/vnd.jupyter.widget-view+json": {
       "model_id": "29c98b4cda004051bc87262152230e03",
       "version_major": 2,
       "version_minor": 0
      },
      "text/plain": [
       "Creating json from Arrow format:   0%|          | 0/500 [00:00<?, ?ba/s]"
      ]
     },
     "metadata": {},
     "output_type": "display_data"
    },
    {
     "data": {
      "text/plain": [
       "51016564"
      ]
     },
     "execution_count": 12,
     "metadata": {},
     "output_type": "execute_result"
    },
    {
     "ename": "",
     "evalue": "",
     "output_type": "error",
     "traceback": [
      "\u001b[1;31mThe Kernel crashed while executing code in the the current cell or a previous cell. Please review the code in the cell(s) to identify a possible cause of the failure. Click <a href='https://aka.ms/vscodeJupyterKernelCrash'>here</a> for more info. View Jupyter <a href='command:jupyter.viewOutput'>log</a> for further details."
     ]
    }
   ],
   "source": [
    "# save as json\n",
    "collection.to_json(\"disk/dataset/msmarco_collection.json\",orient=\"records\")\n",
    "queries.to_json(\"disk/dataset/msmarco_query.json\",orient=\"records\")"
   ]
  },
  {
   "cell_type": "code",
   "execution_count": null,
   "metadata": {},
   "outputs": [],
   "source": []
  }
 ],
 "metadata": {
  "kernelspec": {
   "display_name": "Python 3",
   "language": "python",
   "name": "python3"
  },
  "language_info": {
   "codemirror_mode": {
    "name": "ipython",
    "version": 3
   },
   "file_extension": ".py",
   "mimetype": "text/x-python",
   "name": "python",
   "nbconvert_exporter": "python",
   "pygments_lexer": "ipython3",
   "version": "3.8.10"
  },
  "orig_nbformat": 4
 },
 "nbformat": 4,
 "nbformat_minor": 2
}
